{
 "cells": [
  {
   "cell_type": "code",
   "execution_count": 1,
   "id": "a3914477-db09-4327-8317-40bbe8710f6f",
   "metadata": {},
   "outputs": [],
   "source": [
    "from datasets import load_dataset"
   ]
  },
  {
   "cell_type": "code",
   "execution_count": 2,
   "id": "d00b15c5-f27f-4438-b736-441daa85b00c",
   "metadata": {},
   "outputs": [],
   "source": [
    "# Load the dataset\n",
    "dataset = load_dataset(\"yash-iitk/my-ner-dataset\")"
   ]
  },
  {
   "cell_type": "code",
   "execution_count": 3,
   "id": "72f771e4-50ab-4025-a5e8-cda8f4c5f3c4",
   "metadata": {},
   "outputs": [
    {
     "data": {
      "text/plain": [
       "DatasetDict({\n",
       "    train: Dataset({\n",
       "        features: ['tokens', 'tags'],\n",
       "        num_rows: 28775\n",
       "    })\n",
       "    validation: Dataset({\n",
       "        features: ['tokens', 'tags'],\n",
       "        num_rows: 9592\n",
       "    })\n",
       "    test: Dataset({\n",
       "        features: ['tokens', 'tags'],\n",
       "        num_rows: 9592\n",
       "    })\n",
       "})"
      ]
     },
     "execution_count": 3,
     "metadata": {},
     "output_type": "execute_result"
    }
   ],
   "source": [
    "dataset"
   ]
  },
  {
   "cell_type": "code",
   "execution_count": 4,
   "id": "25c99695-f7e5-4eb1-aae0-0a0398052b4a",
   "metadata": {},
   "outputs": [],
   "source": [
    "train_df = dataset['train']"
   ]
  },
  {
   "cell_type": "code",
   "execution_count": 5,
   "id": "91470a7e-5f51-4377-8070-905b117fdc2c",
   "metadata": {},
   "outputs": [],
   "source": [
    "for i in train_df:\n",
    "    tags = i['tags']\n",
    "    break"
   ]
  },
  {
   "cell_type": "code",
   "execution_count": 6,
   "id": "610c4ebb-abeb-48d0-b97b-8a1d9a63565d",
   "metadata": {},
   "outputs": [],
   "source": [
    "records = []\n",
    "for x in train_df:\n",
    "    record = [(i,j) for i,j in zip(x['tokens'], x['tags'])]\n",
    "    records.append(record)"
   ]
  },
  {
   "cell_type": "code",
   "execution_count": 7,
   "id": "e7d588ee-3345-49e5-8dd1-d38532a6876e",
   "metadata": {},
   "outputs": [],
   "source": [
    "unique_tags = set()\n",
    "for i in train_df:\n",
    "    tags = i['tags']\n",
    "    unique_tags.update(tags)\n",
    "\n",
    "tag2id = {tag: i for i, tag in enumerate(sorted(unique_tags))}\n",
    "id2tag = {i: tag for tag, i in tag2id.items()}"
   ]
  },
  {
   "cell_type": "code",
   "execution_count": 9,
   "id": "ed69e3a0-9625-436c-8cd0-aa2468844cf9",
   "metadata": {},
   "outputs": [],
   "source": [
    "from functions import tokenize_and_align_labels, NERDataset, tokenize_for_inference, BERT_NER"
   ]
  },
  {
   "cell_type": "code",
   "execution_count": 17,
   "id": "f8f51ede-2d4b-4481-8bdf-81ea20fdcd94",
   "metadata": {},
   "outputs": [],
   "source": [
    "import torch"
   ]
  },
  {
   "cell_type": "code",
   "execution_count": 14,
   "id": "a059ca0d-ed92-4a2b-a241-2ee2dcea0934",
   "metadata": {},
   "outputs": [],
   "source": [
    "from transformers import BertTokenizerFast, BertModel\n",
    "import torch.optim as optim\n",
    "from torch.utils.data import Dataset, DataLoader\n",
    "tokenizer = BertTokenizerFast.from_pretrained(\"bert-base-cased\")"
   ]
  },
  {
   "cell_type": "code",
   "execution_count": 15,
   "id": "ee781db4-5e9f-4d8d-9b07-0de77cbbd5d0",
   "metadata": {},
   "outputs": [],
   "source": [
    "dataset = NERDataset(records[:2000], tag2id, tokenizer)\n",
    "loader = DataLoader(dataset, batch_size=64, shuffle=True)"
   ]
  },
  {
   "cell_type": "code",
   "execution_count": 18,
   "id": "58269ce1-cb02-4908-8913-94f67ccef981",
   "metadata": {},
   "outputs": [],
   "source": [
    "num_labels = len(tags)\n",
    "model = BERT_NER(num_labels=num_labels)\n",
    "device = torch.device(\"cuda\" if torch.cuda.is_available() else \"cpu\")"
   ]
  },
  {
   "cell_type": "code",
   "execution_count": 19,
   "id": "88e4bb47-fa83-4450-a499-6c008afbf018",
   "metadata": {},
   "outputs": [],
   "source": [
    "model.to(device);"
   ]
  },
  {
   "cell_type": "code",
   "execution_count": 20,
   "id": "49757980-1924-4c42-871b-801725063895",
   "metadata": {},
   "outputs": [],
   "source": [
    "for param in model.bert.parameters():\n",
    "    param.requires_grad = False"
   ]
  },
  {
   "cell_type": "code",
   "execution_count": 22,
   "id": "4c6500bd-aa4e-4076-897a-b71871a903ba",
   "metadata": {},
   "outputs": [],
   "source": [
    "from torch import nn"
   ]
  },
  {
   "cell_type": "code",
   "execution_count": 23,
   "id": "51332b10-fdc6-4a0e-8298-565318cd04aa",
   "metadata": {},
   "outputs": [],
   "source": [
    "loss_fn = nn.CrossEntropyLoss(ignore_index=-100)\n",
    "optimizer = torch.optim.AdamW(model.classifier.parameters(), lr=5e-4)"
   ]
  },
  {
   "cell_type": "code",
   "execution_count": null,
   "id": "a1b17233-1d9b-4185-b5c7-b640364ddffc",
   "metadata": {},
   "outputs": [],
   "source": [
    "checkpoint_name = \"classifier_weights.pth\""
   ]
  },
  {
   "cell_type": "code",
   "execution_count": 24,
   "id": "ebf38ab4-2586-46fe-bf64-5a9773d0c7dd",
   "metadata": {},
   "outputs": [],
   "source": [
    "from tqdm import tqdm"
   ]
  },
  {
   "cell_type": "code",
   "execution_count": 25,
   "id": "d7672f96-7679-423d-9f94-7404d3977f8b",
   "metadata": {},
   "outputs": [
    {
     "name": "stderr",
     "output_type": "stream",
     "text": [
      "Epoch 1: 100%|████████████████████████████████████████████████████████████████████████| 32/32 [00:08<00:00,  3.99it/s]\n"
     ]
    },
    {
     "name": "stdout",
     "output_type": "stream",
     "text": [
      "Epoch 1 Average Loss: 2.2105\n"
     ]
    },
    {
     "name": "stderr",
     "output_type": "stream",
     "text": [
      "Epoch 2: 100%|████████████████████████████████████████████████████████████████████████| 32/32 [00:07<00:00,  4.26it/s]\n"
     ]
    },
    {
     "name": "stdout",
     "output_type": "stream",
     "text": [
      "Epoch 2 Average Loss: 0.9013\n"
     ]
    },
    {
     "name": "stderr",
     "output_type": "stream",
     "text": [
      "Epoch 3: 100%|████████████████████████████████████████████████████████████████████████| 32/32 [00:07<00:00,  4.25it/s]\n"
     ]
    },
    {
     "name": "stdout",
     "output_type": "stream",
     "text": [
      "Epoch 3 Average Loss: 0.6169\n"
     ]
    },
    {
     "name": "stderr",
     "output_type": "stream",
     "text": [
      "Epoch 4: 100%|████████████████████████████████████████████████████████████████████████| 32/32 [00:07<00:00,  4.25it/s]\n"
     ]
    },
    {
     "name": "stdout",
     "output_type": "stream",
     "text": [
      "Epoch 4 Average Loss: 0.5006\n"
     ]
    },
    {
     "name": "stderr",
     "output_type": "stream",
     "text": [
      "Epoch 5: 100%|████████████████████████████████████████████████████████████████████████| 32/32 [00:07<00:00,  4.24it/s]\n"
     ]
    },
    {
     "name": "stdout",
     "output_type": "stream",
     "text": [
      "Epoch 5 Average Loss: 0.4269\n"
     ]
    },
    {
     "name": "stderr",
     "output_type": "stream",
     "text": [
      "Epoch 6: 100%|████████████████████████████████████████████████████████████████████████| 32/32 [00:07<00:00,  4.22it/s]\n"
     ]
    },
    {
     "name": "stdout",
     "output_type": "stream",
     "text": [
      "Epoch 6 Average Loss: 0.3777\n"
     ]
    },
    {
     "name": "stderr",
     "output_type": "stream",
     "text": [
      "Epoch 7: 100%|████████████████████████████████████████████████████████████████████████| 32/32 [00:07<00:00,  4.22it/s]\n"
     ]
    },
    {
     "name": "stdout",
     "output_type": "stream",
     "text": [
      "Epoch 7 Average Loss: 0.3423\n"
     ]
    },
    {
     "name": "stderr",
     "output_type": "stream",
     "text": [
      "Epoch 8: 100%|████████████████████████████████████████████████████████████████████████| 32/32 [00:07<00:00,  4.22it/s]\n"
     ]
    },
    {
     "name": "stdout",
     "output_type": "stream",
     "text": [
      "Epoch 8 Average Loss: 0.3172\n"
     ]
    },
    {
     "name": "stderr",
     "output_type": "stream",
     "text": [
      "Epoch 9: 100%|████████████████████████████████████████████████████████████████████████| 32/32 [00:07<00:00,  4.21it/s]\n"
     ]
    },
    {
     "name": "stdout",
     "output_type": "stream",
     "text": [
      "Epoch 9 Average Loss: 0.2975\n"
     ]
    },
    {
     "name": "stderr",
     "output_type": "stream",
     "text": [
      "Epoch 10: 100%|███████████████████████████████████████████████████████████████████████| 32/32 [00:07<00:00,  4.21it/s]"
     ]
    },
    {
     "name": "stdout",
     "output_type": "stream",
     "text": [
      "Epoch 10 Average Loss: 0.2826\n",
      "CPU times: user 1min 15s, sys: 361 ms, total: 1min 16s\n",
      "Wall time: 1min 16s\n"
     ]
    },
    {
     "name": "stderr",
     "output_type": "stream",
     "text": [
      "\n"
     ]
    }
   ],
   "source": [
    "%%time\n",
    "\n",
    "EPOCHS = 10\n",
    "\n",
    "num_labels = len(tags)\n",
    "for epoch in range(EPOCHS):\n",
    "    model.train()\n",
    "    total_loss = 0\n",
    "\n",
    "    for batch in tqdm(loader, desc=f\"Epoch {epoch+1}\"):\n",
    "        \n",
    "        input_ids = batch['input_ids'].to(device)\n",
    "        attention_mask = batch['attention_mask'].to(device)\n",
    "        labels = batch['labels'].to(device)\n",
    "\n",
    "        optimizer.zero_grad()\n",
    "\n",
    "        logits = model(input_ids=input_ids, attention_mask=attention_mask)\n",
    "\n",
    "        # Reshape for loss: (batch*seq_len, num_labels)\n",
    "        loss = loss_fn(logits.view(-1, num_labels), labels.view(-1))\n",
    "        loss.backward()\n",
    "        optimizer.step()\n",
    "\n",
    "        total_loss += loss.item()\n",
    "\n",
    "    avg_loss = total_loss / len(loader)\n",
    "    print(f\"Epoch {epoch+1} Average Loss: {avg_loss:.4f}\")"
   ]
  },
  {
   "cell_type": "code",
   "execution_count": 26,
   "id": "984d2e14-daa3-4a97-8190-cb1a7f57e06f",
   "metadata": {},
   "outputs": [],
   "source": []
  },
  {
   "cell_type": "code",
   "execution_count": 27,
   "id": "d77c8341-215f-46a5-b533-2589c937ea11",
   "metadata": {},
   "outputs": [],
   "source": [
    "torch.save(model.classifier.state_dict(), checkpoint_name)"
   ]
  },
  {
   "cell_type": "code",
   "execution_count": null,
   "id": "9182dea2-9ddd-4e56-a693-7bc33cf2edf2",
   "metadata": {},
   "outputs": [],
   "source": []
  },
  {
   "cell_type": "code",
   "execution_count": null,
   "id": "39daed95-8571-454e-9a0b-1bdac89d6d65",
   "metadata": {},
   "outputs": [],
   "source": []
  }
 ],
 "metadata": {
  "kernelspec": {
   "display_name": "Python 3 (ipykernel)",
   "language": "python",
   "name": "python3"
  },
  "language_info": {
   "codemirror_mode": {
    "name": "ipython",
    "version": 3
   },
   "file_extension": ".py",
   "mimetype": "text/x-python",
   "name": "python",
   "nbconvert_exporter": "python",
   "pygments_lexer": "ipython3",
   "version": "3.10.12"
  }
 },
 "nbformat": 4,
 "nbformat_minor": 5
}
